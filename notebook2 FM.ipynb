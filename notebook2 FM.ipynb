{
 "cells": [
  {
   "cell_type": "code",
   "execution_count": null,
   "metadata": {},
   "outputs": [],
   "source": [
    "#1. la amplitud de la señal portadora es pequeña mientras que la modulada no,debido a  \n",
    "#que la señal moduladora era mas pequeña que la portadora de tal forma que solo se pudo llegar hasta esa amplitud \n",
    "\n",
    "\n",
    "#Amplitud señal portadora y frecuencia señal modulada la amplitud de la señal portadora es grande en relacion a la señal modulada la cual \n",
    "#resulta ser mas corta dando resultado una frecuencia mas unida\n",
    "\n",
    "\n",
    "#2.La frecuencia de la señal portadora tiene que ser el doble de la señal modulante \n",
    "#para tener una modulación correcta, por lo tanto tendríamos una recta con picos de \n",
    "#amplitud muy chica."
   ]
  }
 ],
 "metadata": {
  "kernelspec": {
   "display_name": "Python 3",
   "language": "python",
   "name": "python3"
  },
  "language_info": {
   "codemirror_mode": {
    "name": "ipython",
    "version": 3
   },
   "file_extension": ".py",
   "mimetype": "text/x-python",
   "name": "python",
   "nbconvert_exporter": "python",
   "pygments_lexer": "ipython3",
   "version": "3.6.7"
  }
 },
 "nbformat": 4,
 "nbformat_minor": 2
}
